{
 "cells": [
  {
   "cell_type": "markdown",
   "metadata": {
    "colab_type": "text",
    "id": "UHGS6_Lx6x4C"
   },
   "source": [
    "# 0. 라이브러리 및 파일 로드 \n",
    "\n",
    "Google Colab 에서 실행 확인(2020-06-29 기준)\n",
    "\n",
    "https://colab.research.google.com/drive/1C97Sj_9S5S1kAMeIC62RlCo5k_ISXXJA?usp=sharing\n",
    "\n",
    "\n",
    "파이썬 버전 - Python 3.6.9\n",
    "\n",
    "기타 라이브러리 버전 - requirements.txt참고"
   ]
  },
  {
   "cell_type": "code",
   "execution_count": null,
   "metadata": {
    "colab": {},
    "colab_type": "code",
    "id": "W9g4SDP3UTd4"
   },
   "outputs": [],
   "source": [
    "import pandas as pd\n",
    "import numpy as np\n",
    "import matplotlib.pyplot as plt\n",
    "import seaborn as sns\n",
    "import warnings\n",
    "from sklearn.preprocessing import StandardScaler\n",
    "from sklearn.linear_model import Ridge\n",
    "from sklearn.metrics import mean_squared_error, mean_absolute_error, log_loss, accuracy_score, roc_auc_score\n",
    "from sklearn.model_selection import KFold, StratifiedKFold\n",
    "\n",
    "from imblearn.combine import SMOTEENN\n",
    "from lightgbm.sklearn import LGBMClassifier\n",
    "from tqdm.notebook import tqdm\n",
    "warnings.filterwarnings(action='ignore') \n",
    "\n",
    "path = './data/'"
   ]
  },
  {
   "cell_type": "code",
   "execution_count": null,
   "metadata": {
    "colab": {},
    "colab_type": "code",
    "id": "gg3mg1P5VEAj"
   },
   "outputs": [],
   "source": [
    "plant1 = pd.read_csv(path + 'plant1_train.csv', parse_dates=[0], index_col=[0])\n",
    "plant2 = pd.read_csv(path + 'plant2_train.csv', parse_dates=[0], index_col=[0])\n",
    "forecast = pd.read_csv(path + 'weather4.csv', parse_dates=[0], index_col=[0])"
   ]
  },
  {
   "cell_type": "code",
   "execution_count": null,
   "metadata": {},
   "outputs": [],
   "source": [
    "#이슬점\n",
    "def dewpoint(temp, humid):\n",
    "    return ((243.12 *((17.62 * temp /(243.12 + temp)) + np.log(humid / 100.0))) \n",
    "            / (17.62-((17.62 * temp / (243.12 + temp)) + np.log(humid/ 100.0))))"
   ]
  },
  {
   "cell_type": "code",
   "execution_count": null,
   "metadata": {
    "colab": {},
    "colab_type": "code",
    "id": "c7S6D_EXJt7i"
   },
   "outputs": [],
   "source": [
    "plant1.columns = [col.replace('plant1_train.', '') for col in plant1.columns]\n",
    "plant2.columns = [col.replace('plant2_train.', '') for col in plant2.columns]"
   ]
  },
  {
   "cell_type": "code",
   "execution_count": null,
   "metadata": {
    "colab": {},
    "colab_type": "code",
    "id": "GBnsg47gJutl"
   },
   "outputs": [],
   "source": [
    "data  = pd.concat([plant1,forecast], axis=1)\n",
    "data2 = pd.concat([plant2,forecast], axis=1)"
   ]
  },
  {
   "cell_type": "markdown",
   "metadata": {
    "colab_type": "text",
    "id": "NQscCfYx7J6x"
   },
   "source": [
    "# 1. 1차 데이터 전처리"
   ]
  },
  {
   "cell_type": "code",
   "execution_count": null,
   "metadata": {
    "colab": {},
    "colab_type": "code",
    "id": "qnlVWzfRWzuB"
   },
   "outputs": [],
   "source": [
    "# 1공장\n",
    "# 보간\n",
    "inp = data.loc[:, 'temp_25':'wind_46']\n",
    "data.update(inp.interpolate())\n",
    "tempTrain = data.dropna()\n",
    "# train test set.\n",
    "train = tempTrain['2017-02':'2019-03'].resample('1h').asfreq().dropna().reset_index()\n",
    "test = tempTrain['2017-02':'2019-03'].resample('1h').asfreq().dropna().reset_index()"
   ]
  },
  {
   "cell_type": "code",
   "execution_count": null,
   "metadata": {
    "colab": {},
    "colab_type": "code",
    "id": "8lPmsA_pQEqU"
   },
   "outputs": [],
   "source": [
    "# 2공장\n",
    "# 보간\n",
    "inp = data2.loc[:, 'temp_25':'wind_46']\n",
    "data2.update(inp.interpolate())\n",
    "tempTrain2 = data2.dropna()\n",
    "# train test set.\n",
    "train2 = tempTrain2['2017-02':'2019-03'].resample('1h').asfreq().dropna().reset_index()\n",
    "test2 = tempTrain2['2017-02':'2019-03'].resample('1h').asfreq().dropna().reset_index()"
   ]
  },
  {
   "cell_type": "code",
   "execution_count": null,
   "metadata": {
    "colab": {},
    "colab_type": "code",
    "id": "CM6BHwN_npuC"
   },
   "outputs": [],
   "source": [
    "def get_train_test(train, test):\n",
    "    tem_col = ['tem_in_loc1', 'tem_in_loc2', 'tem_in_loc3', 'tem_out_loc1', 'temp_25', 'temp_46']\n",
    "    hum_col = ['hum_in_loc1', 'hum_in_loc2', 'hum_in_loc3', 'hum_out_loc1', 'humid_25','humid_46']\n",
    "\n",
    "    # 기상청 예보 데이터 이동평균 설정\n",
    "    train_X = train.drop(['cond_loc1', 'cond_loc2', 'cond_loc3'], axis=1)\n",
    "    ma6 =  train_X.rolling(6).mean().filter(regex='(25|46)').add_prefix('MA6_')\n",
    "    ma24 = train_X.rolling(24).mean().filter(regex='(25|46)').add_prefix('MA24_')\n",
    "    train_X = pd.concat([train_X, ma6, ma24], axis=1).dropna()\n",
    "\n",
    "    test_X = test.drop(['cond_loc1', 'cond_loc2', 'cond_loc3'], axis=1)\n",
    "    ma6 =  test_X.rolling(6).mean().filter(regex='(25|46)').add_prefix('MA6_')\n",
    "    ma24 = test_X.rolling(24).mean().filter(regex='(25|46)').add_prefix('MA24_')\n",
    "    test_X = pd.concat([test_X, ma6, ma24], axis=1).dropna()\n",
    "    \n",
    "    train_X = train_X.set_index('index')\n",
    "    test_X = test_X.set_index('index')\n",
    "\n",
    "    plant_env_col = ['tem_in_loc1', 'hum_in_loc1', 'tem_coil_loc1', 'tem_in_loc2', 'hum_in_loc2', 'tem_coil_loc2', 'tem_in_loc3', 'hum_in_loc3', 'tem_coil_loc3', 'tem_out_loc1', 'hum_out_loc1']\n",
    "\n",
    "    # y 설정    \n",
    "    \n",
    "    train_y24 = train_X.shift(-24).dropna()[plant_env_col].add_prefix('y25_')\n",
    "    train_y48 = train_X.shift(-48).dropna()[plant_env_col].add_prefix('y46_')\n",
    "    \n",
    "    test_y24 = test_X.shift(-24).dropna()[plant_env_col].add_prefix('y25_')\n",
    "    test_y48 = test_X.shift(-48).dropna()[plant_env_col].add_prefix('y46_')\n",
    "\n",
    "    train = pd.concat([train_X, train_y24, train_y48], axis=1).dropna()\n",
    "    test = pd.concat([test_X, test_y24, test_y48], axis=1).dropna()\n",
    "\n",
    "    train_X = train.iloc[:, :-22]\n",
    "    train_Y = train.iloc[:, -22:]\n",
    "\n",
    "    test_X = test.iloc[:, :-22]\n",
    "    test_Y = test.iloc[:, -22:]\n",
    "\n",
    "    return train_X, train_Y, test_X, test_Y\n"
   ]
  },
  {
   "cell_type": "code",
   "execution_count": null,
   "metadata": {
    "colab": {},
    "colab_type": "code",
    "id": "-bAotHe58OLz"
   },
   "outputs": [],
   "source": [
    "def linear_train_model(x_data, y_data, k=5):\n",
    "    models = []\n",
    "    \n",
    "    k_fold = KFold(n_splits=k, shuffle=True, random_state=777)\n",
    "    val = 0\n",
    "    for train_idx, val_idx in k_fold.split(x_data):\n",
    "        x_train, y_train = x_data.iloc[train_idx], y_data.iloc[train_idx]\n",
    "        x_val, y_val = x_data.iloc[val_idx], y_data.iloc[val_idx]\n",
    "    \n",
    "        model = Ridge(alpha=0.5, random_state=777) # ElasticNet(alpha=0.005, l1_ratio=0.7, tol=0.0001, max_iter=100000, random_state=777)\n",
    "        model.fit(x_train, y_train)\n",
    "        pred = model.predict(x_val)\n",
    "        val += mean_absolute_error(y_val, pred)/k\n",
    "\n",
    "        models.append(model)\n",
    "    \n",
    "    return models, val"
   ]
  },
  {
   "cell_type": "markdown",
   "metadata": {
    "colab_type": "text",
    "id": "JfYp9OWp8EUi"
   },
   "source": [
    "# 2. 1차 모델 훈련 및 예측 진행"
   ]
  },
  {
   "cell_type": "code",
   "execution_count": null,
   "metadata": {
    "colab": {
     "base_uri": "https://localhost:8080/",
     "height": 413
    },
    "colab_type": "code",
    "id": "YKRUcY7mGelG",
    "outputId": "298e3e91-442a-471c-dd3a-7aa110a36818"
   },
   "outputs": [],
   "source": [
    "# 1공장 데이터\n",
    "linear_train_X, linear_train_Y, linear_test_X, linear_test_Y = get_train_test(train, test)\n",
    "\n",
    "# 1공장 내부 환경 예측 모델\n",
    "\n",
    "linear_models1 = {}\n",
    "linear_vals1 = {}\n",
    "linear_scaler1 = {}\n",
    "\n",
    "\n",
    "for time_label in ['25', '46']:\n",
    "    _y = linear_train_Y.filter(regex=f'y{time_label}_')\n",
    "    \n",
    "    for label in _y.columns:\n",
    "        target = f'{label}'\n",
    "        print('train column : ', target)\n",
    "        time_col = linear_train_X.filter(regex= f'_{time_label}$').columns.to_list()        \n",
    "        in_col = linear_train_X.filter(regex=f'(in|coil)_loc{label[-1]}').columns.to_list()\n",
    "        out_col = linear_train_X.filter(regex=f'out_loc1').columns.to_list()\n",
    "\n",
    "        if 'out_loc1' in label:\n",
    "            tcol = time_col + out_col\n",
    "        else:\n",
    "            tcol = time_col + in_col \n",
    "        \n",
    "        x = linear_train_X.loc[:, tcol]\n",
    "        scaler = StandardScaler().fit(x)\n",
    "        x.loc[:,:] = scaler.transform(x)\n",
    "        linear_scaler1[target] = scaler\n",
    "        linear_models1[target], linear_vals1[target] = linear_train_model(x, _y[label])\n",
    "        \n"
   ]
  },
  {
   "cell_type": "code",
   "execution_count": null,
   "metadata": {
    "colab": {},
    "colab_type": "code",
    "id": "BYnDnxaAfqYr"
   },
   "outputs": [],
   "source": [
    "plant1_pred = pd.DataFrame()\n",
    "for col in linear_models1:\n",
    "    preds = []\n",
    "    time_col = linear_train_X.filter(regex= f'{col[1:3]}$').columns.to_list()        \n",
    "    in_col = linear_train_X.filter(regex=f'(in|coil)_loc{col[-1]}').columns.to_list()\n",
    "    out_col = linear_train_X.filter(regex=f'out_loc1').columns.to_list()\n",
    "    \n",
    "    if 'out_loc1' in col:\n",
    "        tcol = time_col + out_col\n",
    "    else:\n",
    "        tcol = time_col + in_col\n",
    "    x = linear_test_X[tcol]\n",
    "    scaler = linear_scaler1[col]\n",
    "    x.loc[:,:] = scaler.transform(x)\n",
    "\n",
    "    for model in linear_models1[col]:        \n",
    "        preds.append(model.predict(x))    \n",
    "\n",
    "    pred = np.mean(preds, axis=0)\n",
    "    plant1_pred[col] = pred  \n",
    "\n",
    "plant1_pred.index = linear_test_X.index"
   ]
  },
  {
   "cell_type": "code",
   "execution_count": null,
   "metadata": {
    "colab": {
     "base_uri": "https://localhost:8080/",
     "height": 413
    },
    "colab_type": "code",
    "id": "I9NlYfo6NsuU",
    "outputId": "da70814e-8673-4dfc-ac57-b97250ac6eae"
   },
   "outputs": [],
   "source": [
    "# 2공장 데이터\n",
    "linear_train_X, linear_train_Y, linear_test_X, linear_test_Y = get_train_test(train2, test2)\n",
    "\n",
    "# 2공장 내부 환경 예측 모델\n",
    "\n",
    "linear_models2 = {}\n",
    "linear_vals2 = {}\n",
    "linear_scaler2 = {}\n",
    "\n",
    "for time_label in ['25', '46']:\n",
    "    _y = linear_train_Y.filter(regex=f'y{time_label}_')\n",
    "    \n",
    "    for label in _y.columns:\n",
    "        target = f'{label}'\n",
    "        print('train column : ', target)\n",
    "        time_col = linear_train_X.filter(regex= f'_{time_label}$').columns.to_list()        \n",
    "        in_col = linear_train_X.filter(regex=f'(in|coil)_loc{label[-1]}').columns.to_list()\n",
    "        out_col = linear_train_X.filter(regex=f'out_loc1').columns.to_list()\n",
    "\n",
    "        if 'out_loc1' in label:\n",
    "            tcol = time_col + out_col\n",
    "        else:\n",
    "            tcol = time_col + in_col\n",
    "\n",
    "        x = linear_train_X.loc[:, tcol]\n",
    "        scaler = StandardScaler().fit(x)\n",
    "        x.loc[:,:] = scaler.transform(x)\n",
    "        linear_scaler2[target] = scaler\n",
    "\n",
    "        linear_models2[target], linear_vals2[target] = linear_train_model(x, _y[label])\n"
   ]
  },
  {
   "cell_type": "code",
   "execution_count": null,
   "metadata": {
    "colab": {},
    "colab_type": "code",
    "id": "xxCylrvzyDmB"
   },
   "outputs": [],
   "source": [
    "plant2_pred = pd.DataFrame()\n",
    "for col in linear_models2:\n",
    "    preds = []\n",
    "    time_col = linear_train_X.filter(regex= f'{col[1:3]}$').columns.to_list()        \n",
    "    in_col = linear_train_X.filter(regex=f'(in|coil)_loc{col[-1]}').columns.to_list()\n",
    "    out_col = linear_train_X.filter(regex=f'out_loc1').columns.to_list()\n",
    "    \n",
    "    if 'out_loc1' in col:\n",
    "        tcol = time_col + out_col\n",
    "    else:\n",
    "        tcol = time_col + in_col\n",
    "\n",
    "    \n",
    "    x = linear_train_X[tcol]\n",
    "    scaler = linear_scaler2[col]\n",
    "    x.loc[:,:] = scaler.transform(x)\n",
    "    \n",
    "    for model in linear_models2[col]:        \n",
    "        preds.append(model.predict(x))    \n",
    "\n",
    "    pred = np.mean(preds, axis=0)\n",
    "    plant2_pred[col] = pred  \n",
    "\n",
    "plant2_pred.index = linear_train_X.index"
   ]
  },
  {
   "cell_type": "markdown",
   "metadata": {
    "colab_type": "text",
    "id": "sW7p-OmF8ctI"
   },
   "source": [
    "# 3. 2차 모델 데이터 전처리"
   ]
  },
  {
   "cell_type": "code",
   "execution_count": null,
   "metadata": {
    "colab": {},
    "colab_type": "code",
    "id": "bTBDWX9gAes_"
   },
   "outputs": [],
   "source": [
    "train = train.set_index('index')\n",
    "cond24 = train[['cond_loc1', 'cond_loc2', 'cond_loc3']].shift(-24).add_prefix('y25_')\n",
    "cond48 = train[['cond_loc1', 'cond_loc2', 'cond_loc3']].shift(-48).add_prefix('y46_')\n",
    "\n",
    "plant1_second = pd.concat([plant1_pred, cond24, cond48], axis=1).dropna() "
   ]
  },
  {
   "cell_type": "code",
   "execution_count": null,
   "metadata": {
    "colab": {},
    "colab_type": "code",
    "id": "fEUbxNSnCbo_"
   },
   "outputs": [],
   "source": [
    "tem_col = plant1_second.filter(regex='tem_in_').columns\n",
    "hum_col = plant1_second.filter(regex='hum_in_').columns\n",
    "coil_col = plant1_second.filter(regex='coil_').columns\n",
    "\n",
    "for i in range(len(tem_col)):\n",
    "    dew_col = f'{tem_col[i][:3]}_dewpoint_{tem_col[i][-7:]}'\n",
    "    plant1_second[dew_col] = dewpoint(plant1_second[tem_col[i]], plant1_second[hum_col[i]])\n",
    "\n",
    "    plant1_second[f'{tem_col[i][:3]}_dewdiff_{tem_col[i][-7:]}'] = plant1_second[coil_col[i]] - plant1_second[dew_col]\n",
    "\n",
    "plant1_second['month'] = plant1_second.index.month\n",
    "plant1_second['day'] = plant1_second.index.day\n",
    "plant1_second['hour'] = plant1_second.index.hour\n"
   ]
  },
  {
   "cell_type": "code",
   "execution_count": null,
   "metadata": {
    "colab": {},
    "colab_type": "code",
    "id": "QwY0vgAGzFE7"
   },
   "outputs": [],
   "source": [
    "train2 = train2.set_index('index')\n",
    "cond24 = train2[['cond_loc1', 'cond_loc2', 'cond_loc3']].shift(-24).add_prefix('y25_')\n",
    "cond48 = train2[['cond_loc1', 'cond_loc2', 'cond_loc3']].shift(-48).add_prefix('y46_')\n",
    "\n",
    "plant2_second = pd.concat([plant2_pred, cond24, cond48], axis=1).dropna() "
   ]
  },
  {
   "cell_type": "code",
   "execution_count": null,
   "metadata": {
    "colab": {},
    "colab_type": "code",
    "id": "2X7_hV02zFBO"
   },
   "outputs": [],
   "source": [
    "tem_col = plant2_second.filter(regex='tem_in_').columns\n",
    "hum_col = plant2_second.filter(regex='hum_in_').columns\n",
    "coil_col = plant2_second.filter(regex='coil_').columns\n",
    "\n",
    "for i in range(len(tem_col)):\n",
    "    dew_col = f'{tem_col[i][:3]}_dewpoint_{tem_col[i][-7:]}'\n",
    "    plant2_second[dew_col] = dewpoint(plant2_second[tem_col[i]], plant2_second[hum_col[i]])\n",
    "\n",
    "    plant2_second[f'{tem_col[i][:3]}_dewdiff_{tem_col[i][-7:]}'] = plant2_second[coil_col[i]] - plant2_second[dew_col]\n",
    "\n",
    "plant2_second['month'] = plant2_second.index.month\n",
    "plant2_second['day'] = plant2_second.index.day\n",
    "plant2_second['hour'] = plant2_second.index.hour\n"
   ]
  },
  {
   "cell_type": "code",
   "execution_count": null,
   "metadata": {
    "colab": {},
    "colab_type": "code",
    "id": "O7rJ7zkZg68I"
   },
   "outputs": [],
   "source": [
    "plant1_second_X = plant1_second.drop(['y25_cond_loc1', 'y25_cond_loc2', 'y25_cond_loc3', 'y46_cond_loc1', 'y46_cond_loc2', 'y46_cond_loc3'], axis=1 )\n",
    "plant1_second_Y = plant1_second.filter(regex='cond')\n",
    "\n",
    "plant2_second_X = plant2_second.drop(['y25_cond_loc1', 'y25_cond_loc2', 'y25_cond_loc3', 'y46_cond_loc1', 'y46_cond_loc2', 'y46_cond_loc3'], axis=1 )\n",
    "plant2_second_Y = plant2_second.filter(regex='cond')"
   ]
  },
  {
   "cell_type": "markdown",
   "metadata": {
    "colab_type": "text",
    "id": "W4WamcI54MWP"
   },
   "source": [
    "# 4. 2차 모델 훈련"
   ]
  },
  {
   "cell_type": "code",
   "execution_count": null,
   "metadata": {
    "colab": {},
    "colab_type": "code",
    "id": "6F77-t9ygHD8"
   },
   "outputs": [],
   "source": [
    "def train_second_model(x_data, y_data, k=5):\n",
    "    models = []\n",
    "    sk_fold = StratifiedKFold(n_splits=k, shuffle=True, random_state=777)\n",
    "    loss = 0\n",
    "    score = 0\n",
    "    for train_idx, val_idx in sk_fold.split(x_data, y_data):\n",
    "        x_train, y_train = x_data[train_idx], y_data[train_idx]\n",
    "        x_val, y_val = x_data[val_idx], y_data[val_idx]        \n",
    "        \n",
    "        params = {\n",
    "            'boosting_type' : 'gbdt',\n",
    "            'n_estimators'  : 8000, \n",
    "            'learning_rate' : 0.01,             \n",
    "            'objective'     :'binary',\n",
    "            'early_stopping_round': 15,\n",
    "            'reg_alpha' : 0.,           # L1 regularization term on weights.\n",
    "            'reg_lambda': 0.3,           # L2 regularization term on weights.\n",
    "            'feature_fraction' : 0.60,                            \n",
    "        }\n",
    "        model = LGBMClassifier(**params) \n",
    "        model.fit(x_train, y_train, eval_set=(x_val, y_val), verbose=100)\n",
    "        pred = model.predict_proba(x_val)[:, 1]\n",
    "        \n",
    "        loss += log_loss(y_val, pred)/k\n",
    "        score += roc_auc_score(y_val, pred)/k\n",
    "\n",
    "        models.append(model)\n",
    "    \n",
    "    return (models, (loss, score))"
   ]
  },
  {
   "cell_type": "code",
   "execution_count": null,
   "metadata": {
    "colab": {
     "base_uri": "https://localhost:8080/",
     "height": 1000
    },
    "colab_type": "code",
    "id": "c2dFOPQRgtrU",
    "outputId": "8f08e12a-8324-4bc7-dcbf-3b914bb55274"
   },
   "outputs": [],
   "source": [
    "# 1공장 결로 예측모델 훈련\n",
    "second_models1 = {}\n",
    "second_eval1 = {}\n",
    "for time_label in ['y25', 'y46']:\n",
    "    X_time = plant1_second_X.filter(regex=f'{time_label}')\n",
    "    y_time = plant1_second_Y.filter(regex=f'{time_label}_cond')\n",
    "    for loc_label in ['loc1', 'loc2', 'loc3']:\n",
    "        print(f'train : {time_label}_{loc_label}')\n",
    "        y = y_time.filter(regex=f'{loc_label}')\n",
    "        in_col = X_time.filter(regex=f'(in|coil)_{loc_label}').columns.to_list()\n",
    "        out_col = X_time.filter(regex=f'out_loc1').columns.to_list()\n",
    "        date_col = ['month','day', 'hour']\n",
    "        tcol = in_col + out_col + date_col        \n",
    "        x, y = SMOTEENN(random_state=777).fit_sample(plant1_second_X[tcol], y.values.reshape(-1,))\n",
    "\n",
    "        second_models1[f'{time_label}_{loc_label}'], second_eval1[f'{time_label}_{loc_label}'] = train_second_model(x, y)"
   ]
  },
  {
   "cell_type": "code",
   "execution_count": null,
   "metadata": {
    "colab": {
     "base_uri": "https://localhost:8080/",
     "height": 1000
    },
    "colab_type": "code",
    "id": "jh3_3OdX75yg",
    "outputId": "cf9e7e04-4a8e-4936-9bb1-463bff845d90"
   },
   "outputs": [],
   "source": [
    "# 2공장 결로 예측모델 훈련\n",
    "second_models2 = {}\n",
    "second_eval2 = {}\n",
    "for time_label in ['y25', 'y46']:\n",
    "    X_time = plant2_second_X.filter(regex=f'{time_label}')\n",
    "    y_time = plant2_second_Y.filter(regex=f'{time_label}_cond')\n",
    "    for loc_label in ['loc1', 'loc2', 'loc3']:\n",
    "        print(f'train : {time_label}_{loc_label}')\n",
    "        y = y_time.filter(regex=f'{loc_label}')\n",
    "        in_col = X_time.filter(regex=f'(in|coil)_{loc_label}').columns.to_list()\n",
    "        out_col = X_time.filter(regex=f'out_loc1').columns.to_list()\n",
    "        date_col = ['month','day', 'hour']\n",
    "        tcol = in_col + out_col + date_col        \n",
    "        x, y = SMOTEENN(random_state=777).fit_sample(plant2_second_X[tcol], y.values.reshape(-1,))\n",
    "\n",
    "        second_models2[f'{time_label}_{loc_label}'], second_eval2[f'{time_label}_{loc_label}'] = train_second_model(x, y)"
   ]
  },
  {
   "cell_type": "code",
   "execution_count": null,
   "metadata": {
    "colab": {
     "base_uri": "https://localhost:8080/",
     "height": 35
    },
    "colab_type": "code",
    "id": "DgGG_ZHGVbG8",
    "outputId": "70307954-c6e5-42e3-c47e-03cac1e4ddb8"
   },
   "outputs": [],
   "source": [
    "# 5fold validation 결과\n",
    "v = 0\n",
    "for x in second_eval1:\n",
    "    v += second_eval1[x][1]/len(second_eval1)\n",
    "\n",
    "for x in second_eval2:\n",
    "    v += second_eval2[x][1]/len(second_eval2)\n",
    "\n",
    "print(v/2)"
   ]
  },
  {
   "cell_type": "markdown",
   "metadata": {
    "colab_type": "text",
    "id": "R4bJmCafbGel"
   },
   "source": [
    "# 5. Test Set에 대한 예측 진행"
   ]
  },
  {
   "cell_type": "code",
   "execution_count": null,
   "metadata": {
    "colab": {},
    "colab_type": "code",
    "id": "bcioeH4QiZz-"
   },
   "outputs": [],
   "source": [
    "forecast_model = {\n",
    "    '1' : linear_models1,\n",
    "    '2' : linear_models2,\n",
    "}\n",
    "scalers = {\n",
    "    '1' : linear_scaler1,\n",
    "    '2' : linear_scaler2,\n",
    "}\n",
    "classifiers = {\n",
    "    '1' : second_models1,\n",
    "    '2' : second_models2,\n",
    "}"
   ]
  },
  {
   "cell_type": "code",
   "execution_count": null,
   "metadata": {
    "colab": {},
    "colab_type": "code",
    "id": "v_0eW-haMDmO"
   },
   "outputs": [],
   "source": [
    "test = pd.read_csv(path + 'test.csv', parse_dates=[0], index_col=[0])\n",
    "test.columns = [col.replace('plant_test.', '') for col in test.columns]"
   ]
  },
  {
   "cell_type": "code",
   "execution_count": null,
   "metadata": {
    "colab": {},
    "colab_type": "code",
    "id": "BUcqeUgkPxdS"
   },
   "outputs": [],
   "source": [
    "# 날씨 예보 데이터 \n",
    "forecast_ref = forecast.asfreq('30min')\n",
    "forecast_ref = forecast_ref.interpolate()\n",
    "\n",
    "ma6 = forecast_ref.rolling(6).mean().add_prefix('MA6_')\n",
    "ma24= forecast_ref.rolling(24).mean().add_prefix('MA24_')\n",
    "forecast_ref = pd.concat([forecast_ref, ma6, ma24], axis=1).dropna()"
   ]
  },
  {
   "cell_type": "code",
   "execution_count": null,
   "metadata": {
    "colab": {
     "base_uri": "https://localhost:8080/",
     "height": 450
    },
    "colab_type": "code",
    "id": "7TzrAdp1Xt9b",
    "outputId": "8b74ba33-0c5b-4683-cf2a-326a6715a58e"
   },
   "outputs": [],
   "source": [
    "test"
   ]
  },
  {
   "cell_type": "code",
   "execution_count": null,
   "metadata": {
    "colab": {
     "base_uri": "https://localhost:8080/",
     "height": 67,
     "referenced_widgets": [
      "03b4993a005e46faabb4536386c26a10",
      "d1ad4298415944a584795c1b22ae13d0",
      "2ad27fc6f8b94a0eb33b9bb5bf8ad132",
      "f7590ee88d1c4c73a60db50aede3d9fb",
      "1d1d271192e04dcfae04bf1b6b35e16a",
      "72f368909beb415fbcc8eee786020c76",
      "a23fdfdb1f1446a7b46c67954437c085",
      "6238d553f28e4808a8d9f59459045cc9"
     ]
    },
    "colab_type": "code",
    "id": "YoTh3H8WX-Du",
    "outputId": "f5d0c300-4137-4e83-b5cb-98595ae90bd4"
   },
   "outputs": [],
   "source": [
    "result = pd.DataFrame(columns=['plant', 'loc', '24h_cond_proba', '48h_cond_proba'])\n",
    "for idx in tqdm(range(len(test))):\n",
    "    data = test.iloc[idx:idx+1, :7]\n",
    "    tidx = data.index[0].strftime('%Y-%m-%d %T')\n",
    "    fc = forecast_ref[tidx:tidx]\n",
    "    current = pd.concat([data.iloc[:, 2:], fc], axis=1)\n",
    "    plant = str(data['plant'][0])\n",
    "    loc = f\"loc{data['loc'][0]}\"\n",
    "    \n",
    "    time24_col = current.filter(regex='_25').columns\n",
    "    time48_col = current.filter(regex='_46').columns\n",
    "    \n",
    "    second_df = pd.DataFrame(index=data.index)\n",
    "    in_col = ['tem_in','hum_in','tem_coil']\n",
    "    out_col = ['tem_out_loc1','hum_out_loc1']\n",
    "    for time in ['25', '46']:\n",
    "        for col in ['tem_in','hum_in','tem_coil','tem_out_loc1','hum_out_loc1']:        \n",
    "            preds = []\n",
    "            time_col = current.filter(regex=f'_{time}').columns.to_list()\n",
    "            if 'out_' in col:                                \n",
    "                tcol = time_col + out_col\n",
    "                x = scalers[plant][f\"y{time}_{col}\"].transform(current[tcol])\n",
    "                for model in forecast_model[plant][f\"y{time}_{col}\"]:\n",
    "                    preds.append(model.predict(x))\n",
    "                pred = np.mean(preds, axis=0)\n",
    "            else:\n",
    "                tcol = time_col + in_col\n",
    "                x = scalers[plant][f\"y{time}_{col}_{loc}\"].transform(current[tcol])                \n",
    "                for model in forecast_model[plant][f\"y{time}_{col}_{loc}\"]:\n",
    "                    preds.append(model.predict(x))\n",
    "                pred = np.mean(preds, axis=0)\n",
    "            second_df[f\"{time}_{col}\"] = pred\n",
    "\n",
    "    tem_col = second_df.filter(regex='tem_in').columns\n",
    "    hum_col = second_df.filter(regex='hum_in').columns\n",
    "    coil_col = second_df.filter(regex='coil').columns\n",
    "\n",
    "    for i in range(len(tem_col)):\n",
    "        dew_col = f'{tem_col[i][:3]}dewpoint{tem_col[i][-7:]}'\n",
    "        second_df[dew_col] = dewpoint(second_df[tem_col[i]], second_df[hum_col[i]])\n",
    "\n",
    "        second_df[f'{tem_col[i][:3]}dewdiff{tem_col[i][-7:]}'] = second_df[coil_col[i]] - second_df[dew_col]\n",
    "\n",
    "    second_df['month'] = second_df.index.month\n",
    "    second_df['day'] = second_df.index.day\n",
    "    second_df['hour'] = second_df.index.hour\n",
    "    \n",
    "    p = {\n",
    "        '25' : 0,\n",
    "        '46' : 0,\n",
    "    }\n",
    "    for time_label in ['25', '46']:\n",
    "        X_time = second_df.filter(regex=f'{time_label}')\n",
    "        in_col = X_time.filter(regex=f'(in|coil)').columns.to_list()\n",
    "        out_col = X_time.filter(regex=f'out_loc1').columns.to_list()\n",
    "        date_col = ['month','day', 'hour']\n",
    "        tcol = in_col + out_col + date_col                \n",
    "        \n",
    "        for m in classifiers[plant][f'y{time_label}_{loc}']:\n",
    "            p[time_label] += ( m.predict_proba( second_df[tcol] ) / 5 )[:, 1].reshape(-1,)[0] #tree\n",
    "    result.loc[idx, :] = [plant, loc[-1], p['25'], p['46']]"
   ]
  },
  {
   "cell_type": "code",
   "execution_count": null,
   "metadata": {
    "colab": {},
    "colab_type": "code",
    "id": "GpJepvm5E1Vp"
   },
   "outputs": [],
   "source": [
    "sample = pd.read_csv(path + 'sample.csv')"
   ]
  },
  {
   "cell_type": "code",
   "execution_count": null,
   "metadata": {
    "colab": {},
    "colab_type": "code",
    "id": "1T1gyKGpn9mB"
   },
   "outputs": [],
   "source": [
    "sample['X24H_COND_LOC'] = np.where(result['24h_cond_proba']>0.5, 1, 0)\n",
    "sample['X24H_COND_LOC_PROB'] = result['24h_cond_proba']\n",
    "sample['X48H_COND_LOC'] = np.where(result['48h_cond_proba']>0.5, 1, 0)\n",
    "sample['X48H_COND_LOC_PROB'] = result['48h_cond_proba']"
   ]
  },
  {
   "cell_type": "code",
   "execution_count": null,
   "metadata": {
    "colab": {},
    "colab_type": "code",
    "id": "AWu1cmwhQH0N"
   },
   "outputs": [],
   "source": [
    "sample['X24H_COND_LOC_PROB'] = sample['X24H_COND_LOC_PROB'].astype(np.float64)\n",
    "sample['X48H_COND_LOC_PROB'] = sample['X48H_COND_LOC_PROB'].astype(np.float64)"
   ]
  },
  {
   "cell_type": "code",
   "execution_count": null,
   "metadata": {
    "colab": {},
    "colab_type": "code",
    "id": "CRHXpDpsPB1j"
   },
   "outputs": [],
   "source": [
    "sample['X24H_COND_LOC_PROB'] = np.round(sample['X24H_COND_LOC_PROB']*100, 2)\n",
    "sample['X48H_COND_LOC_PROB'] = np.round(sample['X48H_COND_LOC_PROB']*100 ,2)"
   ]
  },
  {
   "cell_type": "code",
   "execution_count": null,
   "metadata": {
    "colab": {
     "base_uri": "https://localhost:8080/",
     "height": 71
    },
    "colab_type": "code",
    "id": "IzP3WENxw8AN",
    "outputId": "a21d50e1-4933-4ddb-9e08-d248f94081e3"
   },
   "outputs": [],
   "source": [
    "sample['X24H_COND_LOC'].value_counts()"
   ]
  },
  {
   "cell_type": "code",
   "execution_count": null,
   "metadata": {
    "colab": {
     "base_uri": "https://localhost:8080/",
     "height": 71
    },
    "colab_type": "code",
    "id": "JsU8KK_GG7LS",
    "outputId": "f71afe65-8047-42c5-90fa-f59dc671d9d9"
   },
   "outputs": [],
   "source": [
    "sample['X48H_COND_LOC'].value_counts()"
   ]
  },
  {
   "cell_type": "code",
   "execution_count": null,
   "metadata": {
    "colab": {},
    "colab_type": "code",
    "id": "hDQmK_QypEo5"
   },
   "outputs": [],
   "source": [
    "# 최종 결과 저장\n",
    "# sample.to_csv(path+'203752.csv', index=False)"
   ]
  },
  {
   "cell_type": "code",
   "execution_count": null,
   "metadata": {
    "colab": {},
    "colab_type": "code",
    "id": "0bXp6TAmCAlk"
   },
   "outputs": [],
   "source": []
  }
 ],
 "metadata": {
  "colab": {
   "collapsed_sections": [],
   "name": "hyundai final.ipynb",
   "provenance": []
  },
  "kernelspec": {
   "display_name": "Python 3",
   "language": "python",
   "name": "python3"
  },
  "language_info": {
   "codemirror_mode": {
    "name": "ipython",
    "version": 3
   },
   "file_extension": ".py",
   "mimetype": "text/x-python",
   "name": "python",
   "nbconvert_exporter": "python",
   "pygments_lexer": "ipython3",
   "version": "3.7.4"
  },
  "widgets": {
   "application/vnd.jupyter.widget-state+json": {
    "03b4993a005e46faabb4536386c26a10": {
     "model_module": "@jupyter-widgets/controls",
     "model_name": "HBoxModel",
     "state": {
      "_dom_classes": [],
      "_model_module": "@jupyter-widgets/controls",
      "_model_module_version": "1.5.0",
      "_model_name": "HBoxModel",
      "_view_count": null,
      "_view_module": "@jupyter-widgets/controls",
      "_view_module_version": "1.5.0",
      "_view_name": "HBoxView",
      "box_style": "",
      "children": [
       "IPY_MODEL_2ad27fc6f8b94a0eb33b9bb5bf8ad132",
       "IPY_MODEL_f7590ee88d1c4c73a60db50aede3d9fb"
      ],
      "layout": "IPY_MODEL_d1ad4298415944a584795c1b22ae13d0"
     }
    },
    "1d1d271192e04dcfae04bf1b6b35e16a": {
     "model_module": "@jupyter-widgets/controls",
     "model_name": "ProgressStyleModel",
     "state": {
      "_model_module": "@jupyter-widgets/controls",
      "_model_module_version": "1.5.0",
      "_model_name": "ProgressStyleModel",
      "_view_count": null,
      "_view_module": "@jupyter-widgets/base",
      "_view_module_version": "1.2.0",
      "_view_name": "StyleView",
      "bar_color": null,
      "description_width": "initial"
     }
    },
    "2ad27fc6f8b94a0eb33b9bb5bf8ad132": {
     "model_module": "@jupyter-widgets/controls",
     "model_name": "FloatProgressModel",
     "state": {
      "_dom_classes": [],
      "_model_module": "@jupyter-widgets/controls",
      "_model_module_version": "1.5.0",
      "_model_name": "FloatProgressModel",
      "_view_count": null,
      "_view_module": "@jupyter-widgets/controls",
      "_view_module_version": "1.5.0",
      "_view_name": "ProgressView",
      "bar_style": "success",
      "description": "100%",
      "description_tooltip": null,
      "layout": "IPY_MODEL_72f368909beb415fbcc8eee786020c76",
      "max": 3539,
      "min": 0,
      "orientation": "horizontal",
      "style": "IPY_MODEL_1d1d271192e04dcfae04bf1b6b35e16a",
      "value": 3539
     }
    },
    "6238d553f28e4808a8d9f59459045cc9": {
     "model_module": "@jupyter-widgets/base",
     "model_name": "LayoutModel",
     "state": {
      "_model_module": "@jupyter-widgets/base",
      "_model_module_version": "1.2.0",
      "_model_name": "LayoutModel",
      "_view_count": null,
      "_view_module": "@jupyter-widgets/base",
      "_view_module_version": "1.2.0",
      "_view_name": "LayoutView",
      "align_content": null,
      "align_items": null,
      "align_self": null,
      "border": null,
      "bottom": null,
      "display": null,
      "flex": null,
      "flex_flow": null,
      "grid_area": null,
      "grid_auto_columns": null,
      "grid_auto_flow": null,
      "grid_auto_rows": null,
      "grid_column": null,
      "grid_gap": null,
      "grid_row": null,
      "grid_template_areas": null,
      "grid_template_columns": null,
      "grid_template_rows": null,
      "height": null,
      "justify_content": null,
      "justify_items": null,
      "left": null,
      "margin": null,
      "max_height": null,
      "max_width": null,
      "min_height": null,
      "min_width": null,
      "object_fit": null,
      "object_position": null,
      "order": null,
      "overflow": null,
      "overflow_x": null,
      "overflow_y": null,
      "padding": null,
      "right": null,
      "top": null,
      "visibility": null,
      "width": null
     }
    },
    "72f368909beb415fbcc8eee786020c76": {
     "model_module": "@jupyter-widgets/base",
     "model_name": "LayoutModel",
     "state": {
      "_model_module": "@jupyter-widgets/base",
      "_model_module_version": "1.2.0",
      "_model_name": "LayoutModel",
      "_view_count": null,
      "_view_module": "@jupyter-widgets/base",
      "_view_module_version": "1.2.0",
      "_view_name": "LayoutView",
      "align_content": null,
      "align_items": null,
      "align_self": null,
      "border": null,
      "bottom": null,
      "display": null,
      "flex": null,
      "flex_flow": null,
      "grid_area": null,
      "grid_auto_columns": null,
      "grid_auto_flow": null,
      "grid_auto_rows": null,
      "grid_column": null,
      "grid_gap": null,
      "grid_row": null,
      "grid_template_areas": null,
      "grid_template_columns": null,
      "grid_template_rows": null,
      "height": null,
      "justify_content": null,
      "justify_items": null,
      "left": null,
      "margin": null,
      "max_height": null,
      "max_width": null,
      "min_height": null,
      "min_width": null,
      "object_fit": null,
      "object_position": null,
      "order": null,
      "overflow": null,
      "overflow_x": null,
      "overflow_y": null,
      "padding": null,
      "right": null,
      "top": null,
      "visibility": null,
      "width": null
     }
    },
    "a23fdfdb1f1446a7b46c67954437c085": {
     "model_module": "@jupyter-widgets/controls",
     "model_name": "DescriptionStyleModel",
     "state": {
      "_model_module": "@jupyter-widgets/controls",
      "_model_module_version": "1.5.0",
      "_model_name": "DescriptionStyleModel",
      "_view_count": null,
      "_view_module": "@jupyter-widgets/base",
      "_view_module_version": "1.2.0",
      "_view_name": "StyleView",
      "description_width": ""
     }
    },
    "d1ad4298415944a584795c1b22ae13d0": {
     "model_module": "@jupyter-widgets/base",
     "model_name": "LayoutModel",
     "state": {
      "_model_module": "@jupyter-widgets/base",
      "_model_module_version": "1.2.0",
      "_model_name": "LayoutModel",
      "_view_count": null,
      "_view_module": "@jupyter-widgets/base",
      "_view_module_version": "1.2.0",
      "_view_name": "LayoutView",
      "align_content": null,
      "align_items": null,
      "align_self": null,
      "border": null,
      "bottom": null,
      "display": null,
      "flex": null,
      "flex_flow": null,
      "grid_area": null,
      "grid_auto_columns": null,
      "grid_auto_flow": null,
      "grid_auto_rows": null,
      "grid_column": null,
      "grid_gap": null,
      "grid_row": null,
      "grid_template_areas": null,
      "grid_template_columns": null,
      "grid_template_rows": null,
      "height": null,
      "justify_content": null,
      "justify_items": null,
      "left": null,
      "margin": null,
      "max_height": null,
      "max_width": null,
      "min_height": null,
      "min_width": null,
      "object_fit": null,
      "object_position": null,
      "order": null,
      "overflow": null,
      "overflow_x": null,
      "overflow_y": null,
      "padding": null,
      "right": null,
      "top": null,
      "visibility": null,
      "width": null
     }
    },
    "f7590ee88d1c4c73a60db50aede3d9fb": {
     "model_module": "@jupyter-widgets/controls",
     "model_name": "HTMLModel",
     "state": {
      "_dom_classes": [],
      "_model_module": "@jupyter-widgets/controls",
      "_model_module_version": "1.5.0",
      "_model_name": "HTMLModel",
      "_view_count": null,
      "_view_module": "@jupyter-widgets/controls",
      "_view_module_version": "1.5.0",
      "_view_name": "HTMLView",
      "description": "",
      "description_tooltip": null,
      "layout": "IPY_MODEL_6238d553f28e4808a8d9f59459045cc9",
      "placeholder": "​",
      "style": "IPY_MODEL_a23fdfdb1f1446a7b46c67954437c085",
      "value": " 3539/3539 [05:15&lt;00:00, 11.23it/s]"
     }
    }
   }
  }
 },
 "nbformat": 4,
 "nbformat_minor": 1
}
